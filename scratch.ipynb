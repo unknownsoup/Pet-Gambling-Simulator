{
 "cells": [
  {
   "cell_type": "code",
   "id": "initial_id",
   "metadata": {
    "collapsed": true,
    "ExecuteTime": {
     "end_time": "2025-02-15T16:48:13.851896Z",
     "start_time": "2025-02-15T16:48:11.512581Z"
    }
   },
   "source": [
    "import pandas as pd\n",
    "import pygame as py"
   ],
   "outputs": [
    {
     "name": "stdout",
     "output_type": "stream",
     "text": [
      "pygame 2.5.2 (SDL 2.28.3, Python 3.12.3)\n",
      "Hello from the pygame community. https://www.pygame.org/contribute.html\n"
     ]
    }
   ],
   "execution_count": 1
  },
  {
   "metadata": {
    "ExecuteTime": {
     "end_time": "2025-02-15T23:45:51.413328Z",
     "start_time": "2025-02-15T23:45:51.404923Z"
    }
   },
   "cell_type": "code",
   "source": "data = pd.read_csv('player_data.csv')",
   "id": "a85c83ac70c97ede",
   "outputs": [],
   "execution_count": 140
  },
  {
   "metadata": {
    "ExecuteTime": {
     "end_time": "2025-02-15T21:06:40.852009Z",
     "start_time": "2025-02-15T21:06:40.847605Z"
    }
   },
   "cell_type": "code",
   "source": "data.to_csv('player_data.csv')",
   "id": "9f92f7d25adde127",
   "outputs": [],
   "execution_count": 76
  },
  {
   "metadata": {
    "ExecuteTime": {
     "end_time": "2025-02-15T23:45:55.836572Z",
     "start_time": "2025-02-15T23:45:55.829572Z"
    }
   },
   "cell_type": "code",
   "source": "data",
   "id": "bfdaa822278bd931",
   "outputs": [
    {
     "data": {
      "text/plain": [
       "   Unnamed: 0  index    Name  Password  Balance      Pet  Hunger  Happiness  \\\n",
       "0           0      0   Frank  oldstyle     1000      Dog      50         50   \n",
       "1           1      1  Monica   iluvIan     1000      Cat      50         50   \n",
       "2           2      2   Barry  barry123     1000  Chicken      50         50   \n",
       "\n",
       "   energy  \n",
       "0      50  \n",
       "1      50  \n",
       "2      50  "
      ],
      "text/html": [
       "<div>\n",
       "<style scoped>\n",
       "    .dataframe tbody tr th:only-of-type {\n",
       "        vertical-align: middle;\n",
       "    }\n",
       "\n",
       "    .dataframe tbody tr th {\n",
       "        vertical-align: top;\n",
       "    }\n",
       "\n",
       "    .dataframe thead th {\n",
       "        text-align: right;\n",
       "    }\n",
       "</style>\n",
       "<table border=\"1\" class=\"dataframe\">\n",
       "  <thead>\n",
       "    <tr style=\"text-align: right;\">\n",
       "      <th></th>\n",
       "      <th>Unnamed: 0</th>\n",
       "      <th>index</th>\n",
       "      <th>Name</th>\n",
       "      <th>Password</th>\n",
       "      <th>Balance</th>\n",
       "      <th>Pet</th>\n",
       "      <th>Hunger</th>\n",
       "      <th>Happiness</th>\n",
       "      <th>energy</th>\n",
       "    </tr>\n",
       "  </thead>\n",
       "  <tbody>\n",
       "    <tr>\n",
       "      <th>0</th>\n",
       "      <td>0</td>\n",
       "      <td>0</td>\n",
       "      <td>Frank</td>\n",
       "      <td>oldstyle</td>\n",
       "      <td>1000</td>\n",
       "      <td>Dog</td>\n",
       "      <td>50</td>\n",
       "      <td>50</td>\n",
       "      <td>50</td>\n",
       "    </tr>\n",
       "    <tr>\n",
       "      <th>1</th>\n",
       "      <td>1</td>\n",
       "      <td>1</td>\n",
       "      <td>Monica</td>\n",
       "      <td>iluvIan</td>\n",
       "      <td>1000</td>\n",
       "      <td>Cat</td>\n",
       "      <td>50</td>\n",
       "      <td>50</td>\n",
       "      <td>50</td>\n",
       "    </tr>\n",
       "    <tr>\n",
       "      <th>2</th>\n",
       "      <td>2</td>\n",
       "      <td>2</td>\n",
       "      <td>Barry</td>\n",
       "      <td>barry123</td>\n",
       "      <td>1000</td>\n",
       "      <td>Chicken</td>\n",
       "      <td>50</td>\n",
       "      <td>50</td>\n",
       "      <td>50</td>\n",
       "    </tr>\n",
       "  </tbody>\n",
       "</table>\n",
       "</div>"
      ]
     },
     "execution_count": 141,
     "metadata": {},
     "output_type": "execute_result"
    }
   ],
   "execution_count": 141
  },
  {
   "metadata": {
    "ExecuteTime": {
     "end_time": "2025-02-15T19:32:21.746958Z",
     "start_time": "2025-02-15T19:32:21.742892Z"
    }
   },
   "cell_type": "code",
   "source": [
    "name = \"Braedon\"\n",
    "player_id = data[data['Name'] == name].index[0]\n",
    "player_id"
   ],
   "id": "969eaf8806b4ea69",
   "outputs": [
    {
     "data": {
      "text/plain": [
       "4"
      ]
     },
     "execution_count": 66,
     "metadata": {},
     "output_type": "execute_result"
    }
   ],
   "execution_count": 66
  },
  {
   "metadata": {
    "ExecuteTime": {
     "end_time": "2025-02-15T19:32:21.991766Z",
     "start_time": "2025-02-15T19:32:21.987691Z"
    }
   },
   "cell_type": "code",
   "source": "data.loc[player_id]['Password']",
   "id": "5abac1585e5a9aa7",
   "outputs": [
    {
     "data": {
      "text/plain": [
       "'brae123'"
      ]
     },
     "execution_count": 67,
     "metadata": {},
     "output_type": "execute_result"
    }
   ],
   "execution_count": 67
  },
  {
   "metadata": {
    "ExecuteTime": {
     "end_time": "2025-02-15T21:10:35.293572Z",
     "start_time": "2025-02-15T21:10:35.287208Z"
    }
   },
   "cell_type": "code",
   "source": "data.loc[data['index'] == 1].iloc[0]",
   "id": "210788d22bd4735d",
   "outputs": [
    {
     "data": {
      "text/plain": [
       "index              1\n",
       "Name          Monica\n",
       "Password     iluvIan\n",
       "Balance         1000\n",
       "Pet              Cat\n",
       "Hunger             0\n",
       "Happiness          0\n",
       "energy             0\n",
       "Name: 1, dtype: object"
      ]
     },
     "execution_count": 77,
     "metadata": {},
     "output_type": "execute_result"
    }
   ],
   "execution_count": 77
  },
  {
   "metadata": {
    "ExecuteTime": {
     "end_time": "2025-02-15T21:06:36.461299Z",
     "start_time": "2025-02-15T21:06:36.453840Z"
    }
   },
   "cell_type": "code",
   "source": [
    "data['Balance'] = [1000, 1000, 1000]\n",
    "data['Pet'] = ['Dog', 'Cat', 'Chicken']\n",
    "data['Hunger'] = [0, 0, 0]\n",
    "data['Happiness'] = [0, 0, 0]\n",
    "data['energy'] = [0, 0, 0]"
   ],
   "id": "957f09cef0c3ae52",
   "outputs": [],
   "execution_count": 75
  },
  {
   "metadata": {
    "ExecuteTime": {
     "end_time": "2025-02-15T22:29:25.062436Z",
     "start_time": "2025-02-15T22:29:25.059313Z"
    }
   },
   "cell_type": "code",
   "source": [
    "import random\n",
    "option = random.randint(1, 10)"
   ],
   "id": "d7a6d83a5575cbbe",
   "outputs": [],
   "execution_count": 137
  },
  {
   "metadata": {
    "ExecuteTime": {
     "end_time": "2025-02-15T22:29:25.234874Z",
     "start_time": "2025-02-15T22:29:25.231649Z"
    }
   },
   "cell_type": "code",
   "source": [
    "import random\n",
    "\n",
    "if option == (1 or 2 or 3):\n",
    "    print(\"3/10\")\n",
    "elif option == 10:\n",
    "    print(\"1/10\")\n",
    "else:\n",
    "    print(\"6/10\")"
   ],
   "id": "e9022008dce11094",
   "outputs": [
    {
     "name": "stdout",
     "output_type": "stream",
     "text": [
      "3/10\n"
     ]
    }
   ],
   "execution_count": 138
  },
  {
   "metadata": {
    "ExecuteTime": {
     "end_time": "2025-02-15T23:45:47.131784Z",
     "start_time": "2025-02-15T23:45:47.114783Z"
    }
   },
   "cell_type": "code",
   "source": "data ",
   "id": "6394b5d4d6895e8a",
   "outputs": [
    {
     "data": {
      "text/plain": [
       "   index    Name  Password  Balance      Pet  Hunger  Happiness  energy\n",
       "0      0   Frank  oldstyle     1000      Dog       0          0       0\n",
       "1      1  Monica   iluvIan     1000      Cat       0          0       0\n",
       "2      2   Barry  barry123     1000  Chicken       0          0       0"
      ],
      "text/html": [
       "<div>\n",
       "<style scoped>\n",
       "    .dataframe tbody tr th:only-of-type {\n",
       "        vertical-align: middle;\n",
       "    }\n",
       "\n",
       "    .dataframe tbody tr th {\n",
       "        vertical-align: top;\n",
       "    }\n",
       "\n",
       "    .dataframe thead th {\n",
       "        text-align: right;\n",
       "    }\n",
       "</style>\n",
       "<table border=\"1\" class=\"dataframe\">\n",
       "  <thead>\n",
       "    <tr style=\"text-align: right;\">\n",
       "      <th></th>\n",
       "      <th>index</th>\n",
       "      <th>Name</th>\n",
       "      <th>Password</th>\n",
       "      <th>Balance</th>\n",
       "      <th>Pet</th>\n",
       "      <th>Hunger</th>\n",
       "      <th>Happiness</th>\n",
       "      <th>energy</th>\n",
       "    </tr>\n",
       "  </thead>\n",
       "  <tbody>\n",
       "    <tr>\n",
       "      <th>0</th>\n",
       "      <td>0</td>\n",
       "      <td>Frank</td>\n",
       "      <td>oldstyle</td>\n",
       "      <td>1000</td>\n",
       "      <td>Dog</td>\n",
       "      <td>0</td>\n",
       "      <td>0</td>\n",
       "      <td>0</td>\n",
       "    </tr>\n",
       "    <tr>\n",
       "      <th>1</th>\n",
       "      <td>1</td>\n",
       "      <td>Monica</td>\n",
       "      <td>iluvIan</td>\n",
       "      <td>1000</td>\n",
       "      <td>Cat</td>\n",
       "      <td>0</td>\n",
       "      <td>0</td>\n",
       "      <td>0</td>\n",
       "    </tr>\n",
       "    <tr>\n",
       "      <th>2</th>\n",
       "      <td>2</td>\n",
       "      <td>Barry</td>\n",
       "      <td>barry123</td>\n",
       "      <td>1000</td>\n",
       "      <td>Chicken</td>\n",
       "      <td>0</td>\n",
       "      <td>0</td>\n",
       "      <td>0</td>\n",
       "    </tr>\n",
       "  </tbody>\n",
       "</table>\n",
       "</div>"
      ]
     },
     "execution_count": 139,
     "metadata": {},
     "output_type": "execute_result"
    }
   ],
   "execution_count": 139
  },
  {
   "metadata": {},
   "cell_type": "code",
   "outputs": [],
   "execution_count": null,
   "source": "",
   "id": "3b0d0489a17b5fb1"
  }
 ],
 "metadata": {
  "kernelspec": {
   "display_name": "Python 3",
   "language": "python",
   "name": "python3"
  },
  "language_info": {
   "codemirror_mode": {
    "name": "ipython",
    "version": 2
   },
   "file_extension": ".py",
   "mimetype": "text/x-python",
   "name": "python",
   "nbconvert_exporter": "python",
   "pygments_lexer": "ipython2",
   "version": "2.7.6"
  }
 },
 "nbformat": 4,
 "nbformat_minor": 5
}
