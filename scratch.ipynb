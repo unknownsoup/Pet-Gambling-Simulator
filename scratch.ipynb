{
 "cells": [
  {
   "cell_type": "code",
   "id": "initial_id",
   "metadata": {
    "collapsed": true,
    "ExecuteTime": {
     "end_time": "2025-02-16T16:00:44.606515Z",
     "start_time": "2025-02-16T16:00:44.592972Z"
    }
   },
   "source": [
    "import pandas as pd\n",
    "import pygame as py"
   ],
   "outputs": [],
   "execution_count": 142
  },
  {
   "metadata": {
    "ExecuteTime": {
     "end_time": "2025-02-16T17:56:39.031480Z",
     "start_time": "2025-02-16T17:56:39.025917Z"
    }
   },
   "cell_type": "code",
   "source": "data = pd.read_csv('player_data.csv')",
   "id": "a85c83ac70c97ede",
   "outputs": [],
   "execution_count": 179
  },
  {
   "metadata": {
    "ExecuteTime": {
     "end_time": "2025-02-16T16:03:19.732083Z",
     "start_time": "2025-02-16T16:03:19.721641Z"
    }
   },
   "cell_type": "code",
   "source": "data.to_csv('player_data.csv')",
   "id": "9f92f7d25adde127",
   "outputs": [],
   "execution_count": 147
  },
  {
   "metadata": {
    "ExecuteTime": {
     "end_time": "2025-02-15T23:45:55.836572Z",
     "start_time": "2025-02-15T23:45:55.829572Z"
    }
   },
   "cell_type": "code",
   "source": "data",
   "id": "bfdaa822278bd931",
   "outputs": [
    {
     "data": {
      "text/plain": [
       "   Unnamed: 0  index    Name  Password  Balance      Pet  Hunger  Happiness  \\\n",
       "0           0      0   Frank  oldstyle     1000      Dog      50         50   \n",
       "1           1      1  Monica   iluvIan     1000      Cat      50         50   \n",
       "2           2      2   Barry  barry123     1000  Chicken      50         50   \n",
       "\n",
       "   energy  \n",
       "0      50  \n",
       "1      50  \n",
       "2      50  "
      ],
      "text/html": [
       "<div>\n",
       "<style scoped>\n",
       "    .dataframe tbody tr th:only-of-type {\n",
       "        vertical-align: middle;\n",
       "    }\n",
       "\n",
       "    .dataframe tbody tr th {\n",
       "        vertical-align: top;\n",
       "    }\n",
       "\n",
       "    .dataframe thead th {\n",
       "        text-align: right;\n",
       "    }\n",
       "</style>\n",
       "<table border=\"1\" class=\"dataframe\">\n",
       "  <thead>\n",
       "    <tr style=\"text-align: right;\">\n",
       "      <th></th>\n",
       "      <th>Unnamed: 0</th>\n",
       "      <th>index</th>\n",
       "      <th>Name</th>\n",
       "      <th>Password</th>\n",
       "      <th>Balance</th>\n",
       "      <th>Pet</th>\n",
       "      <th>Hunger</th>\n",
       "      <th>Happiness</th>\n",
       "      <th>energy</th>\n",
       "    </tr>\n",
       "  </thead>\n",
       "  <tbody>\n",
       "    <tr>\n",
       "      <th>0</th>\n",
       "      <td>0</td>\n",
       "      <td>0</td>\n",
       "      <td>Frank</td>\n",
       "      <td>oldstyle</td>\n",
       "      <td>1000</td>\n",
       "      <td>Dog</td>\n",
       "      <td>50</td>\n",
       "      <td>50</td>\n",
       "      <td>50</td>\n",
       "    </tr>\n",
       "    <tr>\n",
       "      <th>1</th>\n",
       "      <td>1</td>\n",
       "      <td>1</td>\n",
       "      <td>Monica</td>\n",
       "      <td>iluvIan</td>\n",
       "      <td>1000</td>\n",
       "      <td>Cat</td>\n",
       "      <td>50</td>\n",
       "      <td>50</td>\n",
       "      <td>50</td>\n",
       "    </tr>\n",
       "    <tr>\n",
       "      <th>2</th>\n",
       "      <td>2</td>\n",
       "      <td>2</td>\n",
       "      <td>Barry</td>\n",
       "      <td>barry123</td>\n",
       "      <td>1000</td>\n",
       "      <td>Chicken</td>\n",
       "      <td>50</td>\n",
       "      <td>50</td>\n",
       "      <td>50</td>\n",
       "    </tr>\n",
       "  </tbody>\n",
       "</table>\n",
       "</div>"
      ]
     },
     "execution_count": 141,
     "metadata": {},
     "output_type": "execute_result"
    }
   ],
   "execution_count": 141
  },
  {
   "metadata": {
    "ExecuteTime": {
     "end_time": "2025-02-16T16:03:03.436314Z",
     "start_time": "2025-02-16T16:03:03.429890Z"
    }
   },
   "cell_type": "code",
   "source": "data['Pet_Name'] = ['Frankie', 'Lucy', 'BM0']",
   "id": "d7a6d83a5575cbbe",
   "outputs": [],
   "execution_count": 144
  },
  {
   "metadata": {
    "ExecuteTime": {
     "end_time": "2025-02-16T18:36:55.515741Z",
     "start_time": "2025-02-16T18:36:55.510230Z"
    }
   },
   "cell_type": "code",
   "source": [
    "ask_name = \"Braedon\"\n",
    "name_index = data[data['Name'] == ask_name].index[0]\n",
    "name_index"
   ],
   "id": "e9022008dce11094",
   "outputs": [
    {
     "data": {
      "text/plain": [
       "3"
      ]
     },
     "execution_count": 181,
     "metadata": {},
     "output_type": "execute_result"
    }
   ],
   "execution_count": 181
  },
  {
   "metadata": {
    "ExecuteTime": {
     "end_time": "2025-02-16T17:50:13.805043Z",
     "start_time": "2025-02-16T17:50:13.799043Z"
    }
   },
   "cell_type": "code",
   "source": "print(data[data['Name'] == ask_name])\n",
   "id": "3fa1ba48ed666c62",
   "outputs": [
    {
     "name": "stdout",
     "output_type": "stream",
     "text": [
      "   index     Name Password  Balance     Pet     Hunger  Happiness     energy  \\\n",
      "3    3.0  Braedon  brae123      500  Dragon -173972710 -173972613 -173972790   \n",
      "\n",
      "    Pet_Name  \n",
      "3  Cornelius  \n"
     ]
    }
   ],
   "execution_count": 176
  },
  {
   "metadata": {
    "ExecuteTime": {
     "end_time": "2025-02-16T17:50:15.920609Z",
     "start_time": "2025-02-16T17:50:15.915148Z"
    }
   },
   "cell_type": "code",
   "source": "data['Name']",
   "id": "14fd6f9bb907a9a2",
   "outputs": [
    {
     "data": {
      "text/plain": [
       "0      Frank\n",
       "1     Monica\n",
       "2      Barry\n",
       "3    Braedon\n",
       "4     Kimrey\n",
       "Name: Name, dtype: object"
      ]
     },
     "execution_count": 177,
     "metadata": {},
     "output_type": "execute_result"
    }
   ],
   "execution_count": 177
  },
  {
   "metadata": {
    "ExecuteTime": {
     "end_time": "2025-02-16T17:55:13.053773Z",
     "start_time": "2025-02-16T17:55:13.050333Z"
    }
   },
   "cell_type": "code",
   "source": "len(data)",
   "id": "8607af7702e49a36",
   "outputs": [
    {
     "data": {
      "text/plain": [
       "5"
      ]
     },
     "execution_count": 178,
     "metadata": {},
     "output_type": "execute_result"
    }
   ],
   "execution_count": 178
  },
  {
   "metadata": {},
   "cell_type": "code",
   "outputs": [],
   "execution_count": null,
   "source": "",
   "id": "4590d1c278fb5839"
  }
 ],
 "metadata": {
  "kernelspec": {
   "display_name": "Python 3",
   "language": "python",
   "name": "python3"
  },
  "language_info": {
   "codemirror_mode": {
    "name": "ipython",
    "version": 2
   },
   "file_extension": ".py",
   "mimetype": "text/x-python",
   "name": "python",
   "nbconvert_exporter": "python",
   "pygments_lexer": "ipython2",
   "version": "2.7.6"
  }
 },
 "nbformat": 4,
 "nbformat_minor": 5
}
